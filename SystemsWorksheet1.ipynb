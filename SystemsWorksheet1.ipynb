{
 "cells": [
  {
   "cell_type": "markdown",
   "metadata": {},
   "source": [
    "# <span style=\"color:red\">Primary </span> <span style=\"color:orange\"> School </span> <span style=\"color:yellow\"> Science </span> <span style=\"color:green\"> Worksheet </span> <span style=\"color:blue\"> Rainbow </span> <span style=\"color:indigo\"> Series </span><span style=\"color:purple\">(Experiments) </span>\n",
    "## <span style=\"color:blue\">Theme: Systems </span>\n",
    "## <span style=\"color:blue\">Topic: Electrical Systems </span>\n",
    "### Let's watch the video clip below on the electrical conductivity of a few liquids."
   ]
  },
  {
   "cell_type": "code",
   "execution_count": 1,
   "metadata": {
    "code_folding": [
     0,
     1
    ],
    "scrolled": false
   },
   "outputs": [
    {
     "data": {
      "image/jpeg": "[encoded data removed]",
      "text/html": [
       "\n",
       "        <iframe\n",
       "            width=\"400\"\n",
       "            height=\"300\"\n",
       "            src=\"https://www.youtube.com/embed/uWPSJB5sp44\"\n",
       "            frameborder=\"0\"\n",
       "            allowfullscreen\n",
       "        ></iframe>\n",
       "        "
      ],
      "text/plain": [
       "<IPython.lib.display.YouTubeVideo at 0x22aadf19978>"
      ]
     },
     "execution_count": 1,
     "metadata": {},
     "output_type": "execute_result"
    }
   ],
   "source": [
    "# Click the 'Run' button to activate the video clip.\n",
    "# https://www.youtube.com/watch?v=uWPSJB5sp44\n",
    "from IPython.lib.display import YouTubeVideo\n",
    "YouTubeVideo('uWPSJB5sp44')\n"
   ]
  },
  {
   "cell_type": "markdown",
   "metadata": {},
   "source": [
    "### Experiment Detail:\n",
    "### Jacob wanted to investigate the electrical conductivity of different types of liquids. He prepared five beakers containing different liquids and used a new set of copper and zinc rods for each liquid tested.\n",
    "### The experiment set-up is shown below."
   ]
  },
  {
   "cell_type": "code",
   "execution_count": 1,
   "metadata": {
    "code_folding": [
     0
    ]
   },
   "outputs": [
    {
     "data": {
      "text/html": [
       "<img src=\"DiagramQ15_1.jpg\"/>"
      ],
      "text/plain": [
       "<IPython.core.display.Image object>"
      ]
     },
     "metadata": {},
     "output_type": "display_data"
    }
   ],
   "source": [
    "# Experiment Setup:\n",
    "from IPython.display import display\n",
    "from IPython.display import clear_output\n",
    "from IPython.display import Image\n",
    "\n",
    "clear_output(wait=True)\n",
    "display(Image(url='DiagramQ15_1.jpg'))"
   ]
  },
  {
   "cell_type": "markdown",
   "metadata": {},
   "source": [
    "### Jasper recorded his observations in the table below.\n",
    "\n",
    "| Liquid | Bulb's Brightness|\n",
    "| :-------------| -----------------------------------------------: | \n",
    "| A | No light |\n",
    "| B | Bright |\n",
    "| C | Dim |\n",
    "| D | No light |\n",
    "| E | Very bright |"
   ]
  },
  {
   "cell_type": "markdown",
   "metadata": {},
   "source": [
    "### Questions 1: \n",
    "### Name two variables which Jasper must keep the same for the experiment to be a fair one.                                          "
   ]
  },
  {
   "cell_type": "code",
   "execution_count": null,
   "metadata": {},
   "outputs": [],
   "source": [
    "Type your answer:\n",
    "    "
   ]
  },
  {
   "cell_type": "code",
   "execution_count": 2,
   "metadata": {
    "code_folding": [
     0
    ],
    "scrolled": false
   },
   "outputs": [
    {
     "data": {
      "text/html": [
       "<img src=\"BlankPage.jpg\"/>"
      ],
      "text/plain": [
       "<IPython.core.display.Image object>"
      ]
     },
     "metadata": {},
     "output_type": "display_data"
    }
   ],
   "source": [
    "# Click the 'Run' button for some hints if you are stuck..\n",
    "from IPython.display import display\n",
    "from IPython.display import clear_output\n",
    "from IPython.display import Image\n",
    "import time\n",
    "\n",
    "clear_output(wait=True)\n",
    "display(Image(url='AnswerKeyQ15_a.jpg'))\n",
    "time.sleep(10)\n",
    "clear_output(wait=True)\n",
    "display(Image(url='BlankPage.jpg'))\n"
   ]
  },
  {
   "cell_type": "markdown",
   "metadata": {},
   "source": [
    "### Question 2: \n",
    "### Jasper concluded that liquid E is a better conductor of electricity than liquid B. What observation did Jasper make to come up with such a conclusion?"
   ]
  },
  {
   "cell_type": "markdown",
   "metadata": {},
   "source": [
    "Type your answer:\n"
   ]
  },
  {
   "cell_type": "code",
   "execution_count": 3,
   "metadata": {
    "code_folding": [
     0
    ]
   },
   "outputs": [
    {
     "data": {
      "text/html": [
       "<img src=\"BlankPage.jpg\"/>"
      ],
      "text/plain": [
       "<IPython.core.display.Image object>"
      ]
     },
     "metadata": {},
     "output_type": "display_data"
    },
    {
     "data": {
      "text/html": [
       "\n",
       "                <audio controls=\"controls\" autoplay=\"autoplay\">\n",
       "                    <source src=\"LYNC_secondcall.wav\" type=\"audio/wav\" />\n",
       "                    Your browser does not support the audio element.\n",
       "                </audio>\n",
       "              "
      ],
      "text/plain": [
       "<IPython.lib.display.Audio object>"
      ]
     },
     "execution_count": 3,
     "metadata": {},
     "output_type": "execute_result"
    }
   ],
   "source": [
    "# Click the 'Run' button for some hints if you are stuck..\n",
    "import numpy as np\n",
    "import matplotlib.pyplot as plt\n",
    "import time\n",
    "from IPython.display import clear_output\n",
    "from IPython.display import Image\n",
    "from IPython.display import display\n",
    "from IPython.display import Audio\n",
    "#Audio(url='LYNC_secondcall.wav',autoplay=True)\n",
    "\n",
    "def displaydiagram(filename):\n",
    "    clear_output(wait=True)\n",
    "    display(Image(url=filename))\n",
    "    time.sleep(2)\n",
    "\n",
    "for i in range(1, 5):   \n",
    "    filename = \"AnswerKeyQ15_b\" + str(i) + \".jpg\"\n",
    "    displaydiagram(filename)    \n",
    "\n",
    "time.sleep(10)\n",
    "clear_output(wait=True)\n",
    "display(Image(url='BlankPage.jpg'))  \n",
    "#Oxygen bubbling out\n",
    "Audio(url='LYNC_secondcall.wav',autoplay=True)\n",
    "\n"
   ]
  },
  {
   "cell_type": "markdown",
   "metadata": {},
   "source": [
    "### Question 3: \n",
    "### Use the electrical components provided, show one change that you can introduce to increase the bulb's brightness for liquid b. Take a picture on your circuit with the webcam and explain. "
   ]
  },
  {
   "cell_type": "code",
   "execution_count": 1,
   "metadata": {
    "code_folding": [
     0
    ],
    "scrolled": true
   },
   "outputs": [
    {
     "data": {
      "text/html": [
       "\n",
       "<video id=\"video\" width=\"320\" height=\"240\" autoplay></video>\n",
       "<button id=\"snap\">Snap Photo</button>\n",
       "<canvas id=\"canvas\" width=\"320\" height=\"240\"></canvas>\n",
       "\n",
       "<script>\n",
       "// Grab elements, create settings, etc.\n",
       "var video = document.getElementById('video');\n",
       "\n",
       "// Get access to the camera!\n",
       "if(navigator.mediaDevices && navigator.mediaDevices.getUserMedia) {\n",
       "    // Not adding `{ audio: true }` since we only want video now\n",
       "    navigator.mediaDevices.getUserMedia({ video: true }).then(function(stream) {\n",
       "        //video.src = window.URL.createObjectURL(stream);\n",
       "        //video.play();\n",
       "        video.srcObject=stream;\n",
       "        video.play();\n",
       "    });\n",
       "}\n",
       "\n",
       "// Elements for taking the snapshot\n",
       "var canvas = document.getElementById('canvas');\n",
       "var context = canvas.getContext('2d');\n",
       "var video = document.getElementById('video');\n",
       "\n",
       "// Trigger photo take\n",
       "document.getElementById(\"snap\").addEventListener(\"click\", function() {\n",
       "\tcontext.drawImage(video, 0, 0, 320, 240);\n",
       "    var myCanvas = document.getElementById('canvas');\n",
       "    var image = myCanvas.toDataURL(\"image/png\");\n",
       "    IPython.notebook.kernel.execute(\"print('testing')\")\n",
       "    IPython.notebook.kernel.execute(\"image = '\" + image + \"'\")\n",
       "});\n",
       "</script>\n",
       "\n"
      ],
      "text/plain": [
       "<IPython.core.display.HTML object>"
      ]
     },
     "execution_count": 1,
     "metadata": {},
     "output_type": "execute_result"
    }
   ],
   "source": [
    "#Activate webcam\n",
    "# Code developed by Dirk Colbry\n",
    "# This code snipit tries to read from your computer's camera.  It is not fully tested so it may not work for everyone.\n",
    "\n",
    "from IPython.display import HTML\n",
    "\n",
    "main_text = \"\"\"\n",
    "<video id=\"video\" width=\"320\" height=\"240\" autoplay></video>\n",
    "<button id=\"snap\">Snap Photo</button>\n",
    "<canvas id=\"canvas\" width=\"320\" height=\"240\"></canvas>\n",
    "\n",
    "<script>\n",
    "// Grab elements, create settings, etc.\n",
    "var video = document.getElementById('video');\n",
    "\n",
    "// Get access to the camera!\n",
    "if(navigator.mediaDevices && navigator.mediaDevices.getUserMedia) {\n",
    "    // Not adding `{ audio: true }` since we only want video now\n",
    "    navigator.mediaDevices.getUserMedia({ video: true }).then(function(stream) {\n",
    "        //video.src = window.URL.createObjectURL(stream);\n",
    "        //video.play();\n",
    "        video.srcObject=stream;\n",
    "        video.play();\n",
    "    });\n",
    "}\n",
    "\n",
    "// Elements for taking the snapshot\n",
    "var canvas = document.getElementById('canvas');\n",
    "var context = canvas.getContext('2d');\n",
    "var video = document.getElementById('video');\n",
    "\n",
    "// Trigger photo take\n",
    "document.getElementById(\"snap\").addEventListener(\"click\", function() {\n",
    "\tcontext.drawImage(video, 0, 0, 320, 240);\n",
    "    var myCanvas = document.getElementById('canvas');\n",
    "    var image = myCanvas.toDataURL(\"image/png\");\n",
    "    IPython.notebook.kernel.execute(\"print('testing')\")\n",
    "    IPython.notebook.kernel.execute(\"image = '\" + image + \"'\")\n",
    "});\n",
    "</script>\n",
    "\n",
    "\"\"\"\n",
    "HTML(main_text)"
   ]
  },
  {
   "cell_type": "markdown",
   "metadata": {},
   "source": [
    "Type your answer:\n",
    "    "
   ]
  },
  {
   "cell_type": "code",
   "execution_count": 2,
   "metadata": {
    "code_folding": [
     0
    ],
    "scrolled": true
   },
   "outputs": [
    {
     "data": {
      "text/html": [
       "<img src=\"BlankPage.jpg\"/>"
      ],
      "text/plain": [
       "<IPython.core.display.Image object>"
      ]
     },
     "metadata": {},
     "output_type": "display_data"
    }
   ],
   "source": [
    "# Click the 'Run' button for some hints if you are stuck..\n",
    "from IPython.display import display\n",
    "from IPython.display import clear_output\n",
    "from IPython.display import Image\n",
    "import time\n",
    "\n",
    "clear_output(wait=True)\n",
    "display(Image(url='DiagramQ15_c.jpg'))\n",
    "time.sleep(10)\n",
    "clear_output(wait=True)\n",
    "display(Image(url='BlankPage.jpg'))\n"
   ]
  },
  {
   "cell_type": "markdown",
   "metadata": {},
   "source": [
    "### Main Learning Points:\n",
    "### 1) Ensure you use the following key words when you answer the questions:\n",
    "#### -electrical conductor\n",
    "#### -electrical insulator\n",
    "#### -in series/parallel\n",
    "#### -electric current\n",
    "### 2) Liquid that allows large amount of electrical current(I) to pass through it is good electrical conductor.\n",
    "### 3) Good electrical conductor is said to have low electrical resistance(R)\n",
    "### 4) Battery supplies the potential energy for electricity to start flowing.\n",
    "### 5) Add battery in series will increase the potential energy and increase the electrical current.\n",
    "### 6) Brightness is the Depedant Variable.\n",
    "### 7) Type of liquid(electrical conductor) is the Independant Variable.\n",
    "### 8) With better electrical conductor, higher electric current can flow through the complete circuit.\n",
    "### 9) More electrical energy is therefore provided to bulb and it becomes brighter. "
   ]
  },
  {
   "cell_type": "markdown",
   "metadata": {},
   "source": [
    "### <span style=\"color:red\">Let's </span> <span style=\"color:orange\"> have </span> <span style=\"color:yellow\"> fun </span> <span style=\"color:green\"> learning </span> <span style=\"color:blue\"> some </span> <span style=\"color:indigo\"> coding </span><span style=\"color:purple\"> techniques.... </span>"
   ]
  },
  {
   "cell_type": "code",
   "execution_count": 5,
   "metadata": {
    "code_folding": [
     0
    ]
   },
   "outputs": [
    {
     "name": "stdout",
     "output_type": "stream",
     "text": [
      "Current date is: 3 - 1 - 2020\n",
      "Current time is: 17 : 42 : 38\n",
      "Current date and time are: 2020-01-03 17:42:38.923116\n",
      "Today is your birthday. Happy birthday to you!\n"
     ]
    }
   ],
   "source": [
    "# To make some sense with date and time and your birthdate...\n",
    "import datetime\n",
    "now = datetime.datetime.now()\n",
    "\n",
    "# Print date and time seperately\n",
    "print ('Current date is:',now.day,'-' ,now.month ,'-',now.year)\n",
    "print ('Current time is:',now.hour,':', now.minute ,':',now.second)\n",
    "\n",
    "# Shorter code to print both date and time together...\n",
    "print ('Current date and time are:', now)\n",
    "\n",
    "# Enter your birthday in the bracket\n",
    "birthday = datetime.datetime(2020,1,3)\n",
    "\n",
    "# Is today your birthday?\n",
    "if birthday.year == now.year and birthday.month == now.month and birthday.day == now.day:\n",
    "    print('Today is your birthday. Happy birthday to you!')\n",
    "else:    \n",
    "    print ('Your birthday is:', birthday)\n",
    "    print ('You were born', now - birthday,'ago.')\n",
    "    print('It appears that you are quite old already....')\n"
   ]
  },
  {
   "cell_type": "markdown",
   "metadata": {},
   "source": [
    "Tutor's Feedback:\n",
    "    "
   ]
  },
  {
   "cell_type": "code",
   "execution_count": null,
   "metadata": {},
   "outputs": [],
   "source": []
  }
 ],
 "metadata": {
  "hide_input": false,
  "kernelspec": {
   "display_name": "Python 3",
   "language": "python",
   "name": "python3"
  },
  "language_info": {
   "codemirror_mode": {
    "name": "ipython",
    "version": 3
   },
   "file_extension": ".py",
   "mimetype": "text/x-python",
   "name": "python",
   "nbconvert_exporter": "python",
   "pygments_lexer": "ipython3",
   "version": "3.7.3"
  }
 },
 "nbformat": 4,
 "nbformat_minor": 2
}
