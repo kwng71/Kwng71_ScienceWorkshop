{
 "cells": [
  {
   "cell_type": "markdown",
   "metadata": {},
   "source": [
    "# <span style=\"color:red\">Primary </span> <span style=\"color:orange\"> School </span> <span style=\"color:yellow\"> Science </span> <span style=\"color:green\"> Worksheet </span> <span style=\"color:blue\"> Rainbow </span> <span style=\"color:indigo\"> Series </span><span style=\"color:purple\">(Experiments) </span>"
   ]
  },
  {
   "cell_type": "markdown",
   "metadata": {},
   "source": [
    "## <span style=\"color:blue\">Focus Area: Primary School Science Experiments </span>\n",
    "## <span style=\"color:blue\">Overview:  </span>\n",
    "\n",
    "It is a collection of 10 interactive worksheets on major Science experiments in major topics under the 5 themes outlined by Ministry of Education.\n",
    "It aims to the comprehensive study guide for equipping students with the following key skills to answer questions on Science experiments. \n",
    "\n",
    "<ol>\n",
    "<li>Identfication and use of keywords</li>\n",
    "<li>Familiarization with three types experiment variables </li>\n",
    "<li>Experiment techniques for measuring experiment outcomes    \n",
    "<li>Data analysis and answering techniques for tables </li>\n",
    "<li>Data analysis and answering technique for graphs </li>\n",
    "<li>Linking of experiment results with real life applications/events  \n",
    "</ol>\n",
    "\n",
    "In the worksheets, leveraging on Information Technologies, the following features are added to make the learning FUN and EXPERIENTIAL.\n",
    "\n",
    "<ol>\n",
    "<li> Short video clips(1-2 min) on the relevant Science principles\n",
    "<li> Informative diagrams of the experiment setup for the students to visualize the experiments.\n",
    "<li> Hints with lively animation to guide students who face difficulties answering the questions\n",
    "<li> “Challenge” questions for academic abled students\n",
    "<li> Webcam for students to capture and submit hand-written answers or relevant photos. \n",
    "<li> Science experiment kits for supplementary learning activities\n",
    "<li> A learning check list for student to reinforce his/her level of understanding.\n",
    "<li> ‘Fun with Python Programming’ for picking up useful coding skills to future proof the students.\n",
    "</ol>\n",
    " \n",
    "\n",
    "# <span style=\"color:red\">Collection </span> <span style=\"color:orange\"> of </span> <span style=\"color:yellow\"> Worksheets </span> <span style=\"color:green\"> Under </span> <span style=\"color:blue\"> Key </span> <span style=\"color:indigo\"> Themes and </span><span style=\"color:purple\">Topics </span>\n",
    "\n",
    "## <span style=\"color:blue\">Theme 1: Diversity </span>\n",
    "### Worksheet1:  [Different Materials and Their Physical Properties](https://mybinder.org/v2/gh/kwng71/Kwng71_ScienceWorkshop/master?filepath=DiversityWorksheet1.ipynb)\n",
    "\n",
    "## <span style=\"color:blue\">Theme 2: Cycles </span>\n",
    "### Worksheet1:  [Factors that Affect the Germination of Seed](https://mybinder.org/v2/gh/kwng71/Kwng71_ScienceWorkshop/master?filepath=CyclesWorksheet1.ipynb)\n",
    "\n",
    "## <span style=\"color:blue\">Theme 3: Systems  </span>\n",
    "### Worksheet1: [Electrical Systems](https://mybinder.org/v2/gh/kwng71/Kwng71_ScienceWorkshop/master?filepath=SystemsWorksheet1.ipynb)\n",
    "\n",
    "## <span style=\"color:blue\">Theme 4: Interactions  </span>\n",
    "### Worksheet1: [Factors that Affect the Survival of an Organism](https://mybinder.org/v2/gh/kwng71/Kwng71_ScienceWorkshop/master?filepath=InteractionsWorksheet1.ipynb)\n",
    "### Worksheet2: [Factors that Affect Growth of Bacteria](https://mybinder.org/v2/gh/kwng71/Kwng71_ScienceWorkshop/master?filepath=InteractionsWorksheet2.ipynb)\n",
    "\n",
    "## <span style=\"color:blue\">Theme 5: Energy  </span>\n",
    "### Worksheet1: [Effect of Water Temperature on Photosynthesis](https://mybinder.org/v2/gh/kwng71/Kwng71_ScienceWorkshop/master?filepath=EnergyWorksheet1.ipynb)\n",
    "### Worksheet2: [Effect of Carbon Dioxide on Photosynthesis](https://mybinder.org/v2/gh/kwng71/Kwng71_ScienceWorkshop/master?filepath=EnergyWorksheet1.ipynb)\n",
    "### Worksheet3: [Factors that Affect the Evaporation Process](https://mybinder.org/v2/gh/kwng71/Kwng71_ScienceWorkshop/master?filepath=EnergyWorksheet1.ipynb)\n",
    "### Worksheet4: [Cooling Effect of the Evaporation Process](https://mybinder.org/v2/gh/kwng71/Kwng71_ScienceWorkshop/master?filepath=EnergyWorksheet1.ipynb)\n"
   ]
  },
  {
   "cell_type": "code",
   "execution_count": null,
   "metadata": {},
   "outputs": [],
   "source": []
  }
 ],
 "metadata": {
  "hide_input": false,
  "kernelspec": {
   "display_name": "Python 3",
   "language": "python",
   "name": "python3"
  },
  "language_info": {
   "codemirror_mode": {
    "name": "ipython",
    "version": 3
   },
   "file_extension": ".py",
   "mimetype": "text/x-python",
   "name": "python",
   "nbconvert_exporter": "python",
   "pygments_lexer": "ipython3",
   "version": "3.7.3"
  }
 },
 "nbformat": 4,
 "nbformat_minor": 2
}
