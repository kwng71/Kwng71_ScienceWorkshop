{
 "cells": [
  {
   "cell_type": "markdown",
   "metadata": {},
   "source": [
    "# <span style=\"color:red\">Primary </span> <span style=\"color:orange\"> School </span> <span style=\"color:yellow\"> Science </span> <span style=\"color:green\"> Worksheet </span> <span style=\"color:blue\"> Rainbow </span> <span style=\"color:indigo\"> Series </span><span style=\"color:purple\">(Experiments) </span>\n",
    "## <span style=\"color:blue\">Theme: Energy </span>\n",
    "## <span style=\"color:blue\">Topic: Factors that Affect the Evaporation Process</span>\n",
    "### Let's watch the video clip below on evaporation process."
   ]
  },
  {
   "cell_type": "code",
   "execution_count": 7,
   "metadata": {
    "code_folding": [
     0,
     1
    ],
    "scrolled": true
   },
   "outputs": [
    {
     "data": {
      "image/jpeg": "[encoded data removed]",
      "text/html": [
       "\n",
       "        <iframe\n",
       "            width=\"400\"\n",
       "            height=\"300\"\n",
       "            src=\"https://www.youtube.com/embed/k9l0s5zVibo\"\n",
       "            frameborder=\"0\"\n",
       "            allowfullscreen\n",
       "        ></iframe>\n",
       "        "
      ],
      "text/plain": [
       "<IPython.lib.display.YouTubeVideo at 0x26e8fb2fa90>"
      ]
     },
     "execution_count": 7,
     "metadata": {},
     "output_type": "execute_result"
    }
   ],
   "source": [
    "# Click the 'Run' button to activate the video clip..\n",
    "#https://www.youtube.com/watch?v=k9l0s5zVibo\n",
    "from IPython.lib.display import YouTubeVideo\n",
    "YouTubeVideo('k9l0s5zVibo')\n"
   ]
  },
  {
   "cell_type": "markdown",
   "metadata": {},
   "source": [
    "### Experiment Detail:\n",
    "### The diagrams below show two identical towels, A and B. They were soaked in 50ml of water and the initial mass of each towel was recorded. Towel A was rolled up and tied with a lanyard before being placed on a tray. Towel B was folded and placed on another tray. Both towels were placed in an open area. The mass of each towel was measured again after one hour.\n"
   ]
  },
  {
   "cell_type": "code",
   "execution_count": 2,
   "metadata": {
    "code_folding": [
     0
    ]
   },
   "outputs": [
    {
     "data": {
      "text/html": [
       "<img src=\"DiagramQ12_1.jpg\"/>"
      ],
      "text/plain": [
       "<IPython.core.display.Image object>"
      ]
     },
     "metadata": {},
     "output_type": "display_data"
    }
   ],
   "source": [
    "#Experiment Setup:\n",
    "from IPython.display import display\n",
    "from IPython.display import clear_output\n",
    "from IPython.display import Image\n",
    "\n",
    "clear_output(wait=True)\n",
    "display(Image(url='DiagramQ12_1.jpg'))"
   ]
  },
  {
   "cell_type": "markdown",
   "metadata": {},
   "source": [
    "### Questions 1: \n",
    "### What was the aim of the experiment?                                "
   ]
  },
  {
   "cell_type": "markdown",
   "metadata": {},
   "source": [
    "Type your answer:\n",
    "    "
   ]
  },
  {
   "cell_type": "code",
   "execution_count": 4,
   "metadata": {
    "code_folding": [
     0
    ],
    "scrolled": false
   },
   "outputs": [
    {
     "data": {
      "text/html": [
       "<img src=\"BlankPage.jpg\"/>"
      ],
      "text/plain": [
       "<IPython.core.display.Image object>"
      ]
     },
     "metadata": {},
     "output_type": "display_data"
    }
   ],
   "source": [
    "# Click the 'Run' button for some hints if you are stuck.\n",
    "from IPython.display import display\n",
    "from IPython.display import clear_output\n",
    "from IPython.display import Image\n",
    "import time\n",
    "\n",
    "clear_output(wait=True)\n",
    "display(Image(url='AnswerKeyQ12_a.jpg'))\n",
    "time.sleep(10)\n",
    "clear_output(wait=True)\n",
    "display(Image(url='BlankPage.jpg'))\n"
   ]
  },
  {
   "cell_type": "markdown",
   "metadata": {},
   "source": [
    "### Question 2: \n",
    "### Apart from the variables mentioned above, state one other variable that has to be kept constant in order for the experiment to be a fair one.                                                       "
   ]
  },
  {
   "cell_type": "markdown",
   "metadata": {},
   "source": [
    "Type your answer:\n"
   ]
  },
  {
   "cell_type": "code",
   "execution_count": 5,
   "metadata": {
    "code_folding": [
     0
    ],
    "scrolled": false
   },
   "outputs": [
    {
     "data": {
      "text/html": [
       "<img src=\"BlankPage.jpg\"/>"
      ],
      "text/plain": [
       "<IPython.core.display.Image object>"
      ]
     },
     "metadata": {},
     "output_type": "display_data"
    }
   ],
   "source": [
    "# Click the 'Run' button for some hints if you are stuck..\n",
    "from IPython.display import display\n",
    "from IPython.display import clear_output\n",
    "from IPython.display import Image\n",
    "import time\n",
    "\n",
    "clear_output(wait=True)\n",
    "display(Image(url='AnswerKeyQ12_b.jpg'))\n",
    "time.sleep(10)\n",
    "clear_output(wait=True)\n",
    "display(Image(url='BlankPage.jpg'))"
   ]
  },
  {
   "cell_type": "markdown",
   "metadata": {},
   "source": [
    "### Question 3: \n",
    "### Sketch the graph for the experiment outcome.  \n",
    "### Take a snapshot of your drawing by clicking the 'Run' button below."
   ]
  },
  {
   "cell_type": "code",
   "execution_count": 1,
   "metadata": {
    "code_folding": [
     0
    ]
   },
   "outputs": [
    {
     "data": {
      "text/html": [
       "\n",
       "<video id=\"video\" width=\"320\" height=\"240\" autoplay></video>\n",
       "<button id=\"snap\">Snap Photo</button>\n",
       "<canvas id=\"canvas\" width=\"320\" height=\"240\"></canvas>\n",
       "\n",
       "<script>\n",
       "// Grab elements, create settings, etc.\n",
       "var video = document.getElementById('video');\n",
       "\n",
       "// Get access to the camera!\n",
       "if(navigator.mediaDevices && navigator.mediaDevices.getUserMedia) {\n",
       "    // Not adding `{ audio: true }` since we only want video now\n",
       "    navigator.mediaDevices.getUserMedia({ video: true }).then(function(stream) {\n",
       "        //video.src = window.URL.createObjectURL(stream);\n",
       "        //video.play();\n",
       "        video.srcObject=stream;\n",
       "        video.play();\n",
       "    });\n",
       "}\n",
       "\n",
       "// Elements for taking the snapshot\n",
       "var canvas = document.getElementById('canvas');\n",
       "var context = canvas.getContext('2d');\n",
       "var video = document.getElementById('video');\n",
       "\n",
       "// Trigger photo take\n",
       "document.getElementById(\"snap\").addEventListener(\"click\", function() {\n",
       "\tcontext.drawImage(video, 0, 0, 320, 240);\n",
       "    var myCanvas = document.getElementById('canvas');\n",
       "    var image = myCanvas.toDataURL(\"image/png\");\n",
       "    IPython.notebook.kernel.execute(\"print('testing')\")\n",
       "    IPython.notebook.kernel.execute(\"image = '\" + image + \"'\")\n",
       "});\n",
       "</script>\n",
       "\n"
      ],
      "text/plain": [
       "<IPython.core.display.HTML object>"
      ]
     },
     "execution_count": 1,
     "metadata": {},
     "output_type": "execute_result"
    }
   ],
   "source": [
    "# Answer 3:\n",
    "\n",
    "from IPython.display import HTML\n",
    "\n",
    "main_text = \"\"\"\n",
    "<video id=\"video\" width=\"320\" height=\"240\" autoplay></video>\n",
    "<button id=\"snap\">Snap Photo</button>\n",
    "<canvas id=\"canvas\" width=\"320\" height=\"240\"></canvas>\n",
    "\n",
    "<script>\n",
    "// Grab elements, create settings, etc.\n",
    "var video = document.getElementById('video');\n",
    "\n",
    "// Get access to the camera!\n",
    "if(navigator.mediaDevices && navigator.mediaDevices.getUserMedia) {\n",
    "    // Not adding `{ audio: true }` since we only want video now\n",
    "    navigator.mediaDevices.getUserMedia({ video: true }).then(function(stream) {\n",
    "        //video.src = window.URL.createObjectURL(stream);\n",
    "        //video.play();\n",
    "        video.srcObject=stream;\n",
    "        video.play();\n",
    "    });\n",
    "}\n",
    "\n",
    "// Elements for taking the snapshot\n",
    "var canvas = document.getElementById('canvas');\n",
    "var context = canvas.getContext('2d');\n",
    "var video = document.getElementById('video');\n",
    "\n",
    "// Trigger photo take\n",
    "document.getElementById(\"snap\").addEventListener(\"click\", function() {\n",
    "\tcontext.drawImage(video, 0, 0, 320, 240);\n",
    "    var myCanvas = document.getElementById('canvas');\n",
    "    var image = myCanvas.toDataURL(\"image/png\");\n",
    "    IPython.notebook.kernel.execute(\"print('testing')\")\n",
    "    IPython.notebook.kernel.execute(\"image = '\" + image + \"'\")\n",
    "});\n",
    "</script>\n",
    "\n",
    "\"\"\"\n",
    "HTML(main_text)"
   ]
  },
  {
   "cell_type": "code",
   "execution_count": 7,
   "metadata": {
    "code_folding": [
     0
    ]
   },
   "outputs": [
    {
     "data": {
      "text/html": [
       "<img src=\"BlankPage.jpg\"/>"
      ],
      "text/plain": [
       "<IPython.core.display.Image object>"
      ]
     },
     "metadata": {},
     "output_type": "display_data"
    }
   ],
   "source": [
    "# Click the 'Run' button for some hints if you are stuck.\n",
    "from IPython.display import display\n",
    "from IPython.display import clear_output\n",
    "from IPython.display import Image\n",
    "import time\n",
    "\n",
    "clear_output(wait=True)\n",
    "display(Image(url='AnswerKeyQ12_c.jpg'))\n",
    "time.sleep(10)\n",
    "clear_output(wait=True)\n",
    "display(Image(url='BlankPage.jpg'))"
   ]
  },
  {
   "cell_type": "markdown",
   "metadata": {},
   "source": [
    "### Main Learning Points:\n",
    "### 1) Ensure you use the following key words when you answer the questions:\n",
    "#### -Exposed surface area\n",
    "#### -liquid form\n",
    "#### -vapour form\n",
    "#### -mass of water\n",
    "#### -air temperature\n",
    "### 2) Evaporation is the process where water changes from liquid form to vapour form\n",
    "### 3) The rate of water evaporation depends on exposed area, temperature and humidity.\n",
    "### 4) Exposed surface area increases, water evaporation rate increases\n",
    "### 5) Evaporation rate is Dependant Variable\n",
    "### 6) Exposed surface surface is Independant variable"
   ]
  },
  {
   "cell_type": "markdown",
   "metadata": {},
   "source": [
    "# <span style=\"color:red\">Thumbs </span> <span style=\"color:orange\"> Up </span> <span style=\"color:yellow\"> for </span> <span style=\"color:green\"> completing </span> <span style=\"color:blue\"> this </span> <span style=\"color:indigo\"> worksheet </span><span style=\"color:purple\"> !!! </span>"
   ]
  },
  {
   "cell_type": "code",
   "execution_count": null,
   "metadata": {
    "code_folding": [
     0
    ]
   },
   "outputs": [],
   "source": [
    "# You deserve some fireworks your GREAT efforts... \n",
    "from IPython.display import HTML\n",
    "\n",
    "HTML(\"\"\"\n",
    "<div align=\"middle\">\n",
    "<video width=\"50%\" controls>\n",
    "      <source src=\"Fireworks.mp4\" type=\"video/mp4\">\n",
    "</video></div>\"\"\")"
   ]
  },
  {
   "cell_type": "markdown",
   "metadata": {},
   "source": [
    "### <span style=\"color:red\">Let's </span> <span style=\"color:orange\"> have </span> <span style=\"color:yellow\"> fun </span> <span style=\"color:green\"> learning </span> <span style=\"color:blue\"> some </span> <span style=\"color:indigo\"> coding </span><span style=\"color:purple\"> techniques.... </span>"
   ]
  },
  {
   "cell_type": "code",
   "execution_count": 1,
   "metadata": {
    "code_folding": [
     0
    ]
   },
   "outputs": [
    {
     "data": {
      "text/html": [
       "<img src=\"BlankPage.jpg\"/>"
      ],
      "text/plain": [
       "<IPython.core.display.Image object>"
      ]
     },
     "metadata": {},
     "output_type": "display_data"
    }
   ],
   "source": [
    "# To insert an image/photo..\n",
    "# Insert your image filename and click the 'Run' button to display your picture\n",
    "\n",
    "from IPython.display import display\n",
    "from IPython.display import clear_output\n",
    "from IPython.display import Image\n",
    "import time\n",
    "\n",
    "clear_output(wait=True)\n",
    "display(Image(url='https://cdn.imgbin.com/10/16/11/imgbin-shizuka-minamoto-art-doraemon-nobita-nobi-anime-doraemon-6pZDQhMRanTK1L0Adi6KfXH9L.jpg'))\n",
    "time.sleep(10)\n",
    "clear_output(wait=True)\n",
    "display(Image(url='BlankPage.jpg'))"
   ]
  },
  {
   "cell_type": "markdown",
   "metadata": {},
   "source": [
    "Tutor's Feedback:\n",
    "    "
   ]
  },
  {
   "cell_type": "code",
   "execution_count": null,
   "metadata": {},
   "outputs": [],
   "source": []
  }
 ],
 "metadata": {
  "hide_input": false,
  "kernelspec": {
   "display_name": "Python 3",
   "language": "python",
   "name": "python3"
  },
  "language_info": {
   "codemirror_mode": {
    "name": "ipython",
    "version": 3
   },
   "file_extension": ".py",
   "mimetype": "text/x-python",
   "name": "python",
   "nbconvert_exporter": "python",
   "pygments_lexer": "ipython3",
   "version": "3.7.3"
  }
 },
 "nbformat": 4,
 "nbformat_minor": 2
}
