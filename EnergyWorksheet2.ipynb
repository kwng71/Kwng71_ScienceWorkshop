{
 "cells": [
  {
   "cell_type": "markdown",
   "metadata": {},
   "source": [
    "# <span style=\"color:red\">Primary </span> <span style=\"color:orange\"> School </span> <span style=\"color:yellow\"> Science </span> <span style=\"color:green\"> Worksheet </span> <span style=\"color:blue\"> Rainbow </span> <span style=\"color:indigo\"> Series </span><span style=\"color:purple\">(Experiments) </span>\n",
    "## <span style=\"color:blue\">Theme: Energy </span>\n",
    "## <span style=\"color:blue\">Topic: Effect of Carbon Dioxide on Photosynthesis  </span>\n",
    "### Let's watch the video clip below on importance of carbon dioxide to plant for carrying out photosynthesis."
   ]
  },
  {
   "cell_type": "code",
   "execution_count": 3,
   "metadata": {
    "code_folding": [
     0,
     1
    ],
    "scrolled": true
   },
   "outputs": [
    {
     "data": {
      "image/jpeg": "[encoded data removed]",
      "text/html": [
       "\n",
       "        <iframe\n",
       "            width=\"400\"\n",
       "            height=\"300\"\n",
       "            src=\"https://www.youtube.com/embed/lji6Zx3_E30\"\n",
       "            frameborder=\"0\"\n",
       "            allowfullscreen\n",
       "        ></iframe>\n",
       "        "
      ],
      "text/plain": [
       "<IPython.lib.display.YouTubeVideo at 0x2caa2b4fa90>"
      ]
     },
     "execution_count": 3,
     "metadata": {},
     "output_type": "execute_result"
    }
   ],
   "source": [
    "# Click the 'Run' button to activate the video clip..\n",
    "# https://www.youtube.com/watch?v=lji6Zx3_E30\n",
    "from IPython.lib.display import YouTubeVideo\n",
    "YouTubeVideo('lji6Zx3_E30')\n"
   ]
  },
  {
   "cell_type": "markdown",
   "metadata": {},
   "source": [
    "### Experiment Detail:\n",
    "### Kenneth wants to find out the types of gases a plant needs in order to photosynthesize. Before carrying out the experiment, he placed two identical potted plants in a dark place for 48 hours. He then set up the experiment as shown below."
   ]
  },
  {
   "cell_type": "code",
   "execution_count": 1,
   "metadata": {
    "code_folding": [
     0
    ]
   },
   "outputs": [
    {
     "data": {
      "text/html": [
       "<img src=\"DiagramQ17_1.jpg\"/>"
      ],
      "text/plain": [
       "<IPython.core.display.Image object>"
      ]
     },
     "metadata": {},
     "output_type": "display_data"
    }
   ],
   "source": [
    "#Experiment Setup:\n",
    "from IPython.display import display\n",
    "from IPython.display import clear_output\n",
    "from IPython.display import Image\n",
    "import time\n",
    "clear_output(wait=True)\n",
    "display(Image(url='DiagramQ17_1.jpg'))"
   ]
  },
  {
   "cell_type": "markdown",
   "metadata": {},
   "source": [
    "### Questions 1: \n",
    "### His teacher commented that he should include another setup in order to increase the validity of his experiment. In the space below, draw and label the third setup​.\n",
    "### Take a snapshot of your drawing by clicking the 'Run' button below."
   ]
  },
  {
   "cell_type": "code",
   "execution_count": 1,
   "metadata": {
    "code_folding": [
     0
    ]
   },
   "outputs": [
    {
     "data": {
      "text/html": [
       "\n",
       "<video id=\"video\" width=\"320\" height=\"240\" autoplay></video>\n",
       "<button id=\"snap\">Snap Photo</button>\n",
       "<canvas id=\"canvas\" width=\"320\" height=\"240\"></canvas>\n",
       "\n",
       "<script>\n",
       "// Grab elements, create settings, etc.\n",
       "var video = document.getElementById('video');\n",
       "\n",
       "// Get access to the camera!\n",
       "if(navigator.mediaDevices && navigator.mediaDevices.getUserMedia) {\n",
       "    // Not adding `{ audio: true }` since we only want video now\n",
       "    navigator.mediaDevices.getUserMedia({ video: true }).then(function(stream) {\n",
       "        //video.src = window.URL.createObjectURL(stream);\n",
       "        //video.play();\n",
       "        video.srcObject=stream;\n",
       "        video.play();\n",
       "    });\n",
       "}\n",
       "\n",
       "// Elements for taking the snapshot\n",
       "var canvas = document.getElementById('canvas');\n",
       "var context = canvas.getContext('2d');\n",
       "var video = document.getElementById('video');\n",
       "\n",
       "// Trigger photo take\n",
       "document.getElementById(\"snap\").addEventListener(\"click\", function() {\n",
       "\tcontext.drawImage(video, 0, 0, 320, 240);\n",
       "    var myCanvas = document.getElementById('canvas');\n",
       "    var image = myCanvas.toDataURL(\"image/png\");\n",
       "    IPython.notebook.kernel.execute(\"print('testing')\")\n",
       "    IPython.notebook.kernel.execute(\"image = '\" + image + \"'\")\n",
       "});\n",
       "</script>\n",
       "\n"
      ],
      "text/plain": [
       "<IPython.core.display.HTML object>"
      ]
     },
     "execution_count": 1,
     "metadata": {},
     "output_type": "execute_result"
    }
   ],
   "source": [
    "# Answer 1:\n",
    "# Code developed by Dirk Colbry\n",
    "# This code snipit tries to read from your computer's camera.  It is not fully tested so it may not work for everyone.\n",
    "\n",
    "from IPython.display import HTML\n",
    "\n",
    "main_text = \"\"\"\n",
    "<video id=\"video\" width=\"320\" height=\"240\" autoplay></video>\n",
    "<button id=\"snap\">Snap Photo</button>\n",
    "<canvas id=\"canvas\" width=\"320\" height=\"240\"></canvas>\n",
    "\n",
    "<script>\n",
    "// Grab elements, create settings, etc.\n",
    "var video = document.getElementById('video');\n",
    "\n",
    "// Get access to the camera!\n",
    "if(navigator.mediaDevices && navigator.mediaDevices.getUserMedia) {\n",
    "    // Not adding `{ audio: true }` since we only want video now\n",
    "    navigator.mediaDevices.getUserMedia({ video: true }).then(function(stream) {\n",
    "        //video.src = window.URL.createObjectURL(stream);\n",
    "        //video.play();\n",
    "        video.srcObject=stream;\n",
    "        video.play();\n",
    "    });\n",
    "}\n",
    "\n",
    "// Elements for taking the snapshot\n",
    "var canvas = document.getElementById('canvas');\n",
    "var context = canvas.getContext('2d');\n",
    "var video = document.getElementById('video');\n",
    "\n",
    "// Trigger photo take\n",
    "document.getElementById(\"snap\").addEventListener(\"click\", function() {\n",
    "\tcontext.drawImage(video, 0, 0, 320, 240);\n",
    "    var myCanvas = document.getElementById('canvas');\n",
    "    var image = myCanvas.toDataURL(\"image/png\");\n",
    "    IPython.notebook.kernel.execute(\"print('testing')\")\n",
    "    IPython.notebook.kernel.execute(\"image = '\" + image + \"'\")\n",
    "});\n",
    "</script>\n",
    "\n",
    "\"\"\"\n",
    "HTML(main_text)"
   ]
  },
  {
   "cell_type": "code",
   "execution_count": 2,
   "metadata": {
    "code_folding": [
     0
    ]
   },
   "outputs": [
    {
     "data": {
      "text/html": [
       "<img src=\"BlankPage.jpg\"/>"
      ],
      "text/plain": [
       "<IPython.core.display.Image object>"
      ]
     },
     "metadata": {},
     "output_type": "display_data"
    }
   ],
   "source": [
    "# Click the 'Run' button for some hints if you are stuck..\n",
    "from IPython.display import display\n",
    "from IPython.display import clear_output\n",
    "from IPython.display import Image\n",
    "import time\n",
    "\n",
    "clear_output(wait=True)\n",
    "display(Image(url='AnswerKeyQ17_a.jpg'))\n",
    "time.sleep(10)\n",
    "clear_output(wait=True)\n",
    "display(Image(url='BlankPage.jpg'))"
   ]
  },
  {
   "cell_type": "markdown",
   "metadata": {},
   "source": [
    "### Question 2: \n",
    "### Explain why the third setup is able to increase the validity of his experiment."
   ]
  },
  {
   "cell_type": "markdown",
   "metadata": {},
   "source": [
    "Type your answer:\n"
   ]
  },
  {
   "cell_type": "code",
   "execution_count": 1,
   "metadata": {
    "code_folding": [
     0
    ]
   },
   "outputs": [
    {
     "data": {
      "image/jpeg": "[encoded data removed]",
      "text/html": [
       "\n",
       "        <iframe\n",
       "            width=\"400\"\n",
       "            height=\"300\"\n",
       "            src=\"https://www.youtube.com/embed/0A55QRyJHPM\"\n",
       "            frameborder=\"0\"\n",
       "            allowfullscreen\n",
       "        ></iframe>\n",
       "        "
      ],
      "text/plain": [
       "<IPython.lib.display.YouTubeVideo at 0x2caa2b12860>"
      ]
     },
     "execution_count": 1,
     "metadata": {},
     "output_type": "execute_result"
    }
   ],
   "source": [
    "# Watch the video clip below if you are stuck..\n",
    "#https://www.youtube.com/watch?v=0A55QRyJHPM\n",
    "from IPython.lib.display import YouTubeVideo\n",
    "YouTubeVideo('0A55QRyJHPM')"
   ]
  },
  {
   "cell_type": "markdown",
   "metadata": {},
   "source": [
    "### Question 3: \n",
    "### From the botanical specimen provided to you, select a suitable specimen that he should use?\n",
    "#### *Take a photo of the specimen that you think she should use and explain why*."
   ]
  },
  {
   "cell_type": "code",
   "execution_count": 2,
   "metadata": {
    "code_folding": [
     0
    ],
    "scrolled": true
   },
   "outputs": [
    {
     "data": {
      "text/html": [
       "\n",
       "<video id=\"video\" width=\"320\" height=\"240\" autoplay></video>\n",
       "<button id=\"snap\">Snap Photo</button>\n",
       "<canvas id=\"canvas\" width=\"320\" height=\"240\"></canvas>\n",
       "\n",
       "<script>\n",
       "// Grab elements, create settings, etc.\n",
       "var video = document.getElementById('video');\n",
       "\n",
       "// Get access to the camera!\n",
       "if(navigator.mediaDevices && navigator.mediaDevices.getUserMedia) {\n",
       "    // Not adding `{ audio: true }` since we only want video now\n",
       "    navigator.mediaDevices.getUserMedia({ video: true }).then(function(stream) {\n",
       "        //video.src = window.URL.createObjectURL(stream);\n",
       "        //video.play();\n",
       "        video.srcObject=stream;\n",
       "        video.play();\n",
       "    });\n",
       "}\n",
       "\n",
       "// Elements for taking the snapshot\n",
       "var canvas = document.getElementById('canvas');\n",
       "var context = canvas.getContext('2d');\n",
       "var video = document.getElementById('video');\n",
       "\n",
       "// Trigger photo take\n",
       "document.getElementById(\"snap\").addEventListener(\"click\", function() {\n",
       "\tcontext.drawImage(video, 0, 0, 320, 240);\n",
       "    var myCanvas = document.getElementById('canvas');\n",
       "    var image = myCanvas.toDataURL(\"image/png\");\n",
       "    IPython.notebook.kernel.execute(\"print('testing')\")\n",
       "    IPython.notebook.kernel.execute(\"image = '\" + image + \"'\")\n",
       "});\n",
       "</script>\n",
       "\n"
      ],
      "text/plain": [
       "<IPython.core.display.HTML object>"
      ]
     },
     "execution_count": 2,
     "metadata": {},
     "output_type": "execute_result"
    }
   ],
   "source": [
    "#Click the 'Run' button to turn on your webcam and snap a photo...\n",
    "# Code developed by Dirk Colbry\n",
    "# This code snipit tries to read from your computer's camera.  It is not fully tested so it may not work for everyone.\n",
    "\n",
    "from IPython.display import HTML\n",
    "\n",
    "main_text = \"\"\"\n",
    "<video id=\"video\" width=\"320\" height=\"240\" autoplay></video>\n",
    "<button id=\"snap\">Snap Photo</button>\n",
    "<canvas id=\"canvas\" width=\"320\" height=\"240\"></canvas>\n",
    "\n",
    "<script>\n",
    "// Grab elements, create settings, etc.\n",
    "var video = document.getElementById('video');\n",
    "\n",
    "// Get access to the camera!\n",
    "if(navigator.mediaDevices && navigator.mediaDevices.getUserMedia) {\n",
    "    // Not adding `{ audio: true }` since we only want video now\n",
    "    navigator.mediaDevices.getUserMedia({ video: true }).then(function(stream) {\n",
    "        //video.src = window.URL.createObjectURL(stream);\n",
    "        //video.play();\n",
    "        video.srcObject=stream;\n",
    "        video.play();\n",
    "    });\n",
    "}\n",
    "\n",
    "// Elements for taking the snapshot\n",
    "var canvas = document.getElementById('canvas');\n",
    "var context = canvas.getContext('2d');\n",
    "var video = document.getElementById('video');\n",
    "\n",
    "// Trigger photo take\n",
    "document.getElementById(\"snap\").addEventListener(\"click\", function() {\n",
    "\tcontext.drawImage(video, 0, 0, 320, 240);\n",
    "    var myCanvas = document.getElementById('canvas');\n",
    "    var image = myCanvas.toDataURL(\"image/png\");\n",
    "    IPython.notebook.kernel.execute(\"print('testing')\")\n",
    "    IPython.notebook.kernel.execute(\"image = '\" + image + \"'\")\n",
    "});\n",
    "</script>\n",
    "\n",
    "\"\"\"\n",
    "HTML(main_text)"
   ]
  },
  {
   "cell_type": "markdown",
   "metadata": {},
   "source": [
    "Type your answer:\n",
    "    "
   ]
  },
  {
   "cell_type": "markdown",
   "metadata": {},
   "source": [
    "### Main Learning Points:\n",
    "### 1) Ensure you use the following key words when you answer the questions:\n",
    "#### -experiment variable\n",
    "#### -photosynthesis rate\n",
    "#### -concentration of carbon dioxide\n",
    "#### -light intensity\n",
    "### 2) Plants undergoes photosynthesis as they contain chlorophyl.\n",
    "### 3) Concentration of carbon dioxide increases, photosynthesis rate increases\n",
    "### 4) Light intensity increases, photosynthesis rate increases\n",
    "### 5) Amount of oxygen collected is Dependant Variable\n",
    "### 6) Water temperature is Independant variable"
   ]
  },
  {
   "cell_type": "markdown",
   "metadata": {},
   "source": [
    "# <span style=\"color:red\">Thumbs </span> <span style=\"color:orange\"> Up </span> <span style=\"color:yellow\"> for </span> <span style=\"color:green\"> completing </span> <span style=\"color:blue\"> this </span> <span style=\"color:indigo\"> worksheet </span><span style=\"color:purple\"> !!! </span>"
   ]
  },
  {
   "cell_type": "code",
   "execution_count": null,
   "metadata": {
    "code_folding": [
     0
    ]
   },
   "outputs": [],
   "source": [
    "# You deserve some fireworks your GREAT efforts... \n",
    "from IPython.display import HTML\n",
    "\n",
    "HTML(\"\"\"\n",
    "<div align=\"middle\">\n",
    "<video width=\"50%\" controls>\n",
    "      <source src=\"Fireworks.mp4\" type=\"video/mp4\">\n",
    "</video></div>\"\"\")"
   ]
  },
  {
   "cell_type": "markdown",
   "metadata": {},
   "source": [
    "### <span style=\"color:red\">Let's </span> <span style=\"color:orange\"> have </span> <span style=\"color:yellow\"> fun </span> <span style=\"color:green\"> learning </span> <span style=\"color:blue\"> some </span> <span style=\"color:indigo\"> coding </span><span style=\"color:purple\"> techniques.... </span>"
   ]
  },
  {
   "cell_type": "code",
   "execution_count": null,
   "metadata": {
    "code_folding": [
     0
    ]
   },
   "outputs": [],
   "source": [
    "# Have Fun with Python Programming: To draw a line graph\n",
    "# You can modify the code below to change the shape of the graph,the colour of the line, the title, the labels of x axis and y axis\n",
    "\n",
    "# Click 'Run' button to show the graph once you made your changes..\n",
    "# Import matplotlib.pyplot\n",
    "%matplotlib notebook\n",
    "import matplotlib.pyplot as plt\n",
    "\n",
    "plt.ion()\n",
    "\n",
    "x1=(5,10,15,20,25,30)\n",
    "y1=(4,8,12,16,20,24)\n",
    "x2=(2.5,5,7.5,10,12.5,15,17.5)\n",
    "y2=(20,15,10,5,10,15,20)\n",
    "# Plot in blue for data x1 and y1\n",
    "plt.plot(x1,y1, color='blue')\n",
    "\n",
    "# Plot in red the for data x2 and y2\n",
    "plt.plot(x2, y2, color='red')\n",
    "\n",
    "# Display the plot\n",
    "plt.title('Photosynthesis Rate Vs Temperature')\n",
    "plt.xlabel('Temperature of Water(Degree Celsius)')\n",
    "plt.ylabel('Amount of Oxygen Collected(mm)')\n",
    "plt.axis((0,40,0,35))\n",
    "\n",
    "plt.tight_layout()\n",
    "plt.show()"
   ]
  },
  {
   "cell_type": "markdown",
   "metadata": {},
   "source": [
    "Tutor's Feedback:\n",
    "    "
   ]
  }
 ],
 "metadata": {
  "hide_input": false,
  "kernelspec": {
   "display_name": "Python 3",
   "language": "python",
   "name": "python3"
  },
  "language_info": {
   "codemirror_mode": {
    "name": "ipython",
    "version": 3
   },
   "file_extension": ".py",
   "mimetype": "text/x-python",
   "name": "python",
   "nbconvert_exporter": "python",
   "pygments_lexer": "ipython3",
   "version": "3.7.3"
  }
 },
 "nbformat": 4,
 "nbformat_minor": 2
}
